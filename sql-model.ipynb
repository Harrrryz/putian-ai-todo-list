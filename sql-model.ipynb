{
 "cells": [
  {
   "cell_type": "code",
   "execution_count": 9,
   "metadata": {},
   "outputs": [
    {
     "name": "stderr",
     "output_type": "stream",
     "text": [
      "c:\\Users\\harry\\code\\putian-ai-todo-list\\venv\\Lib\\site-packages\\sqlmodel\\main.py:553: SAWarning: This declarative base already contains a class with the same class name and module name as __main__.Hero, and will be replaced in the string-lookup table.\n",
      "  DeclarativeMeta.__init__(cls, classname, bases, dict_, **kw)\n"
     ]
    },
    {
     "ename": "InvalidRequestError",
     "evalue": "Table 'hero' is already defined for this MetaData instance.  Specify 'extend_existing=True' to redefine options and columns on an existing Table object.",
     "output_type": "error",
     "traceback": [
      "\u001b[1;31m---------------------------------------------------------------------------\u001b[0m",
      "\u001b[1;31mInvalidRequestError\u001b[0m                       Traceback (most recent call last)",
      "Cell \u001b[1;32mIn[9], line 4\u001b[0m\n\u001b[0;32m      1\u001b[0m \u001b[38;5;28;01mfrom\u001b[39;00m \u001b[38;5;21;01msqlmodel\u001b[39;00m \u001b[38;5;28;01mimport\u001b[39;00m Field, Session, SQLModel, create_engine\n\u001b[1;32m----> 4\u001b[0m \u001b[38;5;28;43;01mclass\u001b[39;49;00m\u001b[43m \u001b[49m\u001b[38;5;21;43;01mHero\u001b[39;49;00m\u001b[43m(\u001b[49m\u001b[43mSQLModel\u001b[49m\u001b[43m,\u001b[49m\u001b[43m \u001b[49m\u001b[43mtable\u001b[49m\u001b[38;5;241;43m=\u001b[39;49m\u001b[38;5;28;43;01mTrue\u001b[39;49;00m\u001b[43m,\u001b[49m\u001b[43m \u001b[49m\u001b[43mextend_existing\u001b[49m\u001b[38;5;241;43m=\u001b[39;49m\u001b[38;5;28;43;01mTrue\u001b[39;49;00m\u001b[43m)\u001b[49m\u001b[43m:\u001b[49m\n\u001b[0;32m      5\u001b[0m \u001b[43m    \u001b[49m\u001b[38;5;28;43mid\u001b[39;49m\u001b[43m:\u001b[49m\u001b[43m \u001b[49m\u001b[38;5;28;43mint\u001b[39;49m\u001b[43m \u001b[49m\u001b[38;5;241;43m|\u001b[39;49m\u001b[43m \u001b[49m\u001b[38;5;28;43;01mNone\u001b[39;49;00m\u001b[43m \u001b[49m\u001b[38;5;241;43m=\u001b[39;49m\u001b[43m \u001b[49m\u001b[43mField\u001b[49m\u001b[43m(\u001b[49m\u001b[43mdefault\u001b[49m\u001b[38;5;241;43m=\u001b[39;49m\u001b[38;5;28;43;01mNone\u001b[39;49;00m\u001b[43m,\u001b[49m\u001b[43m \u001b[49m\u001b[43mprimary_key\u001b[49m\u001b[38;5;241;43m=\u001b[39;49m\u001b[38;5;28;43;01mTrue\u001b[39;49;00m\u001b[43m)\u001b[49m\n\u001b[0;32m      6\u001b[0m \u001b[43m    \u001b[49m\u001b[43mname\u001b[49m\u001b[43m:\u001b[49m\u001b[43m \u001b[49m\u001b[38;5;28;43mstr\u001b[39;49m\n",
      "File \u001b[1;32mc:\\Users\\harry\\code\\putian-ai-todo-list\\venv\\Lib\\site-packages\\sqlmodel\\main.py:553\u001b[0m, in \u001b[0;36mSQLModelMetaclass.__init__\u001b[1;34m(cls, classname, bases, dict_, **kw)\u001b[0m\n\u001b[0;32m    549\u001b[0m         \u001b[38;5;28msetattr\u001b[39m(\u001b[38;5;28mcls\u001b[39m, rel_name, rel_value)  \u001b[38;5;66;03m# Fix #315\u001b[39;00m\n\u001b[0;32m    550\u001b[0m     \u001b[38;5;66;03m# SQLAlchemy no longer uses dict_\u001b[39;00m\n\u001b[0;32m    551\u001b[0m     \u001b[38;5;66;03m# Ref: https://github.com/sqlalchemy/sqlalchemy/commit/428ea01f00a9cc7f85e435018565eb6da7af1b77\u001b[39;00m\n\u001b[0;32m    552\u001b[0m     \u001b[38;5;66;03m# Tag: 1.4.36\u001b[39;00m\n\u001b[1;32m--> 553\u001b[0m     \u001b[43mDeclarativeMeta\u001b[49m\u001b[38;5;241;43m.\u001b[39;49m\u001b[38;5;21;43m__init__\u001b[39;49m\u001b[43m(\u001b[49m\u001b[38;5;28;43mcls\u001b[39;49m\u001b[43m,\u001b[49m\u001b[43m \u001b[49m\u001b[43mclassname\u001b[49m\u001b[43m,\u001b[49m\u001b[43m \u001b[49m\u001b[43mbases\u001b[49m\u001b[43m,\u001b[49m\u001b[43m \u001b[49m\u001b[43mdict_\u001b[49m\u001b[43m,\u001b[49m\u001b[43m \u001b[49m\u001b[38;5;241;43m*\u001b[39;49m\u001b[38;5;241;43m*\u001b[39;49m\u001b[43mkw\u001b[49m\u001b[43m)\u001b[49m\n\u001b[0;32m    554\u001b[0m \u001b[38;5;28;01melse\u001b[39;00m:\n\u001b[0;32m    555\u001b[0m     ModelMetaclass\u001b[38;5;241m.\u001b[39m\u001b[38;5;21m__init__\u001b[39m(\u001b[38;5;28mcls\u001b[39m, classname, bases, dict_, \u001b[38;5;241m*\u001b[39m\u001b[38;5;241m*\u001b[39mkw)\n",
      "File \u001b[1;32mc:\\Users\\harry\\code\\putian-ai-todo-list\\venv\\Lib\\site-packages\\sqlalchemy\\orm\\decl_api.py:196\u001b[0m, in \u001b[0;36mDeclarativeMeta.__init__\u001b[1;34m(cls, classname, bases, dict_, **kw)\u001b[0m\n\u001b[0;32m    193\u001b[0m         \u001b[38;5;28mcls\u001b[39m\u001b[38;5;241m.\u001b[39m_sa_registry \u001b[38;5;241m=\u001b[39m reg\n\u001b[0;32m    195\u001b[0m \u001b[38;5;28;01mif\u001b[39;00m \u001b[38;5;129;01mnot\u001b[39;00m \u001b[38;5;28mcls\u001b[39m\u001b[38;5;241m.\u001b[39m\u001b[38;5;18m__dict__\u001b[39m\u001b[38;5;241m.\u001b[39mget(\u001b[38;5;124m\"\u001b[39m\u001b[38;5;124m__abstract__\u001b[39m\u001b[38;5;124m\"\u001b[39m, \u001b[38;5;28;01mFalse\u001b[39;00m):\n\u001b[1;32m--> 196\u001b[0m     \u001b[43m_as_declarative\u001b[49m\u001b[43m(\u001b[49m\u001b[43mreg\u001b[49m\u001b[43m,\u001b[49m\u001b[43m \u001b[49m\u001b[38;5;28;43mcls\u001b[39;49m\u001b[43m,\u001b[49m\u001b[43m \u001b[49m\u001b[43mdict_\u001b[49m\u001b[43m)\u001b[49m\n\u001b[0;32m    197\u001b[0m \u001b[38;5;28mtype\u001b[39m\u001b[38;5;241m.\u001b[39m\u001b[38;5;21m__init__\u001b[39m(\u001b[38;5;28mcls\u001b[39m, classname, bases, dict_)\n",
      "File \u001b[1;32mc:\\Users\\harry\\code\\putian-ai-todo-list\\venv\\Lib\\site-packages\\sqlalchemy\\orm\\decl_base.py:244\u001b[0m, in \u001b[0;36m_as_declarative\u001b[1;34m(registry, cls, dict_)\u001b[0m\n\u001b[0;32m    239\u001b[0m \u001b[38;5;28;01mdef\u001b[39;00m \u001b[38;5;21m_as_declarative\u001b[39m(\n\u001b[0;32m    240\u001b[0m     registry: _RegistryType, \u001b[38;5;28mcls\u001b[39m: Type[Any], dict_: _ClassDict\n\u001b[0;32m    241\u001b[0m ) \u001b[38;5;241m-\u001b[39m\u001b[38;5;241m>\u001b[39m Optional[_MapperConfig]:\n\u001b[0;32m    242\u001b[0m     \u001b[38;5;66;03m# declarative scans the class for attributes.  no table or mapper\u001b[39;00m\n\u001b[0;32m    243\u001b[0m     \u001b[38;5;66;03m# args passed separately.\u001b[39;00m\n\u001b[1;32m--> 244\u001b[0m     \u001b[38;5;28;01mreturn\u001b[39;00m \u001b[43m_MapperConfig\u001b[49m\u001b[38;5;241;43m.\u001b[39;49m\u001b[43msetup_mapping\u001b[49m\u001b[43m(\u001b[49m\u001b[43mregistry\u001b[49m\u001b[43m,\u001b[49m\u001b[43m \u001b[49m\u001b[38;5;28;43mcls\u001b[39;49m\u001b[43m,\u001b[49m\u001b[43m \u001b[49m\u001b[43mdict_\u001b[49m\u001b[43m,\u001b[49m\u001b[43m \u001b[49m\u001b[38;5;28;43;01mNone\u001b[39;49;00m\u001b[43m,\u001b[49m\u001b[43m \u001b[49m\u001b[43m{\u001b[49m\u001b[43m}\u001b[49m\u001b[43m)\u001b[49m\n",
      "File \u001b[1;32mc:\\Users\\harry\\code\\putian-ai-todo-list\\venv\\Lib\\site-packages\\sqlalchemy\\orm\\decl_base.py:325\u001b[0m, in \u001b[0;36m_MapperConfig.setup_mapping\u001b[1;34m(cls, registry, cls_, dict_, table, mapper_kw)\u001b[0m\n\u001b[0;32m    321\u001b[0m     \u001b[38;5;28;01mreturn\u001b[39;00m _DeferredMapperConfig(\n\u001b[0;32m    322\u001b[0m         registry, cls_, dict_, table, mapper_kw\n\u001b[0;32m    323\u001b[0m     )\n\u001b[0;32m    324\u001b[0m \u001b[38;5;28;01melse\u001b[39;00m:\n\u001b[1;32m--> 325\u001b[0m     \u001b[38;5;28;01mreturn\u001b[39;00m \u001b[43m_ClassScanMapperConfig\u001b[49m\u001b[43m(\u001b[49m\n\u001b[0;32m    326\u001b[0m \u001b[43m        \u001b[49m\u001b[43mregistry\u001b[49m\u001b[43m,\u001b[49m\u001b[43m \u001b[49m\u001b[43mcls_\u001b[49m\u001b[43m,\u001b[49m\u001b[43m \u001b[49m\u001b[43mdict_\u001b[49m\u001b[43m,\u001b[49m\u001b[43m \u001b[49m\u001b[43mtable\u001b[49m\u001b[43m,\u001b[49m\u001b[43m \u001b[49m\u001b[43mmapper_kw\u001b[49m\n\u001b[0;32m    327\u001b[0m \u001b[43m    \u001b[49m\u001b[43m)\u001b[49m\n",
      "File \u001b[1;32mc:\\Users\\harry\\code\\putian-ai-todo-list\\venv\\Lib\\site-packages\\sqlalchemy\\orm\\decl_base.py:575\u001b[0m, in \u001b[0;36m_ClassScanMapperConfig.__init__\u001b[1;34m(self, registry, cls_, dict_, table, mapper_kw)\u001b[0m\n\u001b[0;32m    571\u001b[0m \u001b[38;5;28mself\u001b[39m\u001b[38;5;241m.\u001b[39m_extract_mappable_attributes()\n\u001b[0;32m    573\u001b[0m \u001b[38;5;28mself\u001b[39m\u001b[38;5;241m.\u001b[39m_extract_declared_columns()\n\u001b[1;32m--> 575\u001b[0m \u001b[38;5;28;43mself\u001b[39;49m\u001b[38;5;241;43m.\u001b[39;49m\u001b[43m_setup_table\u001b[49m\u001b[43m(\u001b[49m\u001b[43mtable\u001b[49m\u001b[43m)\u001b[49m\n\u001b[0;32m    577\u001b[0m \u001b[38;5;28mself\u001b[39m\u001b[38;5;241m.\u001b[39m_setup_inheriting_columns(mapper_kw)\n\u001b[0;32m    579\u001b[0m \u001b[38;5;28mself\u001b[39m\u001b[38;5;241m.\u001b[39m_early_mapping(mapper_kw)\n",
      "File \u001b[1;32mc:\\Users\\harry\\code\\putian-ai-todo-list\\venv\\Lib\\site-packages\\sqlalchemy\\orm\\decl_base.py:1726\u001b[0m, in \u001b[0;36m_ClassScanMapperConfig._setup_table\u001b[1;34m(self, table)\u001b[0m\n\u001b[0;32m   1718\u001b[0m             table_kw[\u001b[38;5;124m\"\u001b[39m\u001b[38;5;124mautoload\u001b[39m\u001b[38;5;124m\"\u001b[39m] \u001b[38;5;241m=\u001b[39m \u001b[38;5;28;01mTrue\u001b[39;00m\n\u001b[0;32m   1720\u001b[0m         sorted_columns \u001b[38;5;241m=\u001b[39m \u001b[38;5;28msorted\u001b[39m(\n\u001b[0;32m   1721\u001b[0m             declared_columns,\n\u001b[0;32m   1722\u001b[0m             key\u001b[38;5;241m=\u001b[39m\u001b[38;5;28;01mlambda\u001b[39;00m c: column_ordering\u001b[38;5;241m.\u001b[39mget(c, \u001b[38;5;241m0\u001b[39m),\n\u001b[0;32m   1723\u001b[0m         )\n\u001b[0;32m   1724\u001b[0m         table \u001b[38;5;241m=\u001b[39m \u001b[38;5;28mself\u001b[39m\u001b[38;5;241m.\u001b[39mset_cls_attribute(\n\u001b[0;32m   1725\u001b[0m             \u001b[38;5;124m\"\u001b[39m\u001b[38;5;124m__table__\u001b[39m\u001b[38;5;124m\"\u001b[39m,\n\u001b[1;32m-> 1726\u001b[0m             \u001b[43mtable_cls\u001b[49m\u001b[43m(\u001b[49m\n\u001b[0;32m   1727\u001b[0m \u001b[43m                \u001b[49m\u001b[43mtablename\u001b[49m\u001b[43m,\u001b[49m\n\u001b[0;32m   1728\u001b[0m \u001b[43m                \u001b[49m\u001b[38;5;28;43mself\u001b[39;49m\u001b[38;5;241;43m.\u001b[39;49m\u001b[43m_metadata_for_cls\u001b[49m\u001b[43m(\u001b[49m\u001b[43mmanager\u001b[49m\u001b[43m)\u001b[49m\u001b[43m,\u001b[49m\n\u001b[0;32m   1729\u001b[0m \u001b[43m                \u001b[49m\u001b[38;5;241;43m*\u001b[39;49m\u001b[43msorted_columns\u001b[49m\u001b[43m,\u001b[49m\n\u001b[0;32m   1730\u001b[0m \u001b[43m                \u001b[49m\u001b[38;5;241;43m*\u001b[39;49m\u001b[43margs\u001b[49m\u001b[43m,\u001b[49m\n\u001b[0;32m   1731\u001b[0m \u001b[43m                \u001b[49m\u001b[38;5;241;43m*\u001b[39;49m\u001b[38;5;241;43m*\u001b[39;49m\u001b[43mtable_kw\u001b[49m\u001b[43m,\u001b[49m\n\u001b[0;32m   1732\u001b[0m \u001b[43m            \u001b[49m\u001b[43m)\u001b[49m,\n\u001b[0;32m   1733\u001b[0m         )\n\u001b[0;32m   1734\u001b[0m \u001b[38;5;28;01melse\u001b[39;00m:\n\u001b[0;32m   1735\u001b[0m     \u001b[38;5;28;01mif\u001b[39;00m table \u001b[38;5;129;01mis\u001b[39;00m \u001b[38;5;28;01mNone\u001b[39;00m:\n",
      "File \u001b[1;32m<string>:2\u001b[0m, in \u001b[0;36m__new__\u001b[1;34m(cls, *args, **kw)\u001b[0m\n",
      "File \u001b[1;32mc:\\Users\\harry\\code\\putian-ai-todo-list\\venv\\Lib\\site-packages\\sqlalchemy\\util\\deprecations.py:281\u001b[0m, in \u001b[0;36mdeprecated_params.<locals>.decorate.<locals>.warned\u001b[1;34m(fn, *args, **kwargs)\u001b[0m\n\u001b[0;32m    274\u001b[0m     \u001b[38;5;28;01mif\u001b[39;00m m \u001b[38;5;129;01min\u001b[39;00m kwargs:\n\u001b[0;32m    275\u001b[0m         _warn_with_version(\n\u001b[0;32m    276\u001b[0m             messages[m],\n\u001b[0;32m    277\u001b[0m             versions[m],\n\u001b[0;32m    278\u001b[0m             version_warnings[m],\n\u001b[0;32m    279\u001b[0m             stacklevel\u001b[38;5;241m=\u001b[39m\u001b[38;5;241m3\u001b[39m,\n\u001b[0;32m    280\u001b[0m         )\n\u001b[1;32m--> 281\u001b[0m \u001b[38;5;28;01mreturn\u001b[39;00m \u001b[43mfn\u001b[49m\u001b[43m(\u001b[49m\u001b[38;5;241;43m*\u001b[39;49m\u001b[43margs\u001b[49m\u001b[43m,\u001b[49m\u001b[43m \u001b[49m\u001b[38;5;241;43m*\u001b[39;49m\u001b[38;5;241;43m*\u001b[39;49m\u001b[43mkwargs\u001b[49m\u001b[43m)\u001b[49m\n",
      "File \u001b[1;32mc:\\Users\\harry\\code\\putian-ai-todo-list\\venv\\Lib\\site-packages\\sqlalchemy\\sql\\schema.py:431\u001b[0m, in \u001b[0;36mTable.__new__\u001b[1;34m(cls, *args, **kw)\u001b[0m\n\u001b[0;32m    424\u001b[0m \u001b[38;5;129m@util\u001b[39m\u001b[38;5;241m.\u001b[39mdeprecated_params(\n\u001b[0;32m    425\u001b[0m     mustexist\u001b[38;5;241m=\u001b[39m(\n\u001b[0;32m    426\u001b[0m         \u001b[38;5;124m\"\u001b[39m\u001b[38;5;124m1.4\u001b[39m\u001b[38;5;124m\"\u001b[39m,\n\u001b[1;32m   (...)\u001b[0m\n\u001b[0;32m    429\u001b[0m )\n\u001b[0;32m    430\u001b[0m \u001b[38;5;28;01mdef\u001b[39;00m \u001b[38;5;21m__new__\u001b[39m(\u001b[38;5;28mcls\u001b[39m, \u001b[38;5;241m*\u001b[39margs: Any, \u001b[38;5;241m*\u001b[39m\u001b[38;5;241m*\u001b[39mkw: Any) \u001b[38;5;241m-\u001b[39m\u001b[38;5;241m>\u001b[39m Any:\n\u001b[1;32m--> 431\u001b[0m     \u001b[38;5;28;01mreturn\u001b[39;00m \u001b[38;5;28;43mcls\u001b[39;49m\u001b[38;5;241;43m.\u001b[39;49m\u001b[43m_new\u001b[49m\u001b[43m(\u001b[49m\u001b[38;5;241;43m*\u001b[39;49m\u001b[43margs\u001b[49m\u001b[43m,\u001b[49m\u001b[43m \u001b[49m\u001b[38;5;241;43m*\u001b[39;49m\u001b[38;5;241;43m*\u001b[39;49m\u001b[43mkw\u001b[49m\u001b[43m)\u001b[49m\n",
      "File \u001b[1;32mc:\\Users\\harry\\code\\putian-ai-todo-list\\venv\\Lib\\site-packages\\sqlalchemy\\sql\\schema.py:463\u001b[0m, in \u001b[0;36mTable._new\u001b[1;34m(cls, *args, **kw)\u001b[0m\n\u001b[0;32m    461\u001b[0m \u001b[38;5;28;01mif\u001b[39;00m key \u001b[38;5;129;01min\u001b[39;00m metadata\u001b[38;5;241m.\u001b[39mtables:\n\u001b[0;32m    462\u001b[0m     \u001b[38;5;28;01mif\u001b[39;00m \u001b[38;5;129;01mnot\u001b[39;00m keep_existing \u001b[38;5;129;01mand\u001b[39;00m \u001b[38;5;129;01mnot\u001b[39;00m extend_existing \u001b[38;5;129;01mand\u001b[39;00m \u001b[38;5;28mbool\u001b[39m(args):\n\u001b[1;32m--> 463\u001b[0m         \u001b[38;5;28;01mraise\u001b[39;00m exc\u001b[38;5;241m.\u001b[39mInvalidRequestError(\n\u001b[0;32m    464\u001b[0m             \u001b[38;5;124mf\u001b[39m\u001b[38;5;124m\"\u001b[39m\u001b[38;5;124mTable \u001b[39m\u001b[38;5;124m'\u001b[39m\u001b[38;5;132;01m{\u001b[39;00mkey\u001b[38;5;132;01m}\u001b[39;00m\u001b[38;5;124m'\u001b[39m\u001b[38;5;124m is already defined for this MetaData \u001b[39m\u001b[38;5;124m\"\u001b[39m\n\u001b[0;32m    465\u001b[0m             \u001b[38;5;124m\"\u001b[39m\u001b[38;5;124minstance.  Specify \u001b[39m\u001b[38;5;124m'\u001b[39m\u001b[38;5;124mextend_existing=True\u001b[39m\u001b[38;5;124m'\u001b[39m\u001b[38;5;124m \u001b[39m\u001b[38;5;124m\"\u001b[39m\n\u001b[0;32m    466\u001b[0m             \u001b[38;5;124m\"\u001b[39m\u001b[38;5;124mto redefine \u001b[39m\u001b[38;5;124m\"\u001b[39m\n\u001b[0;32m    467\u001b[0m             \u001b[38;5;124m\"\u001b[39m\u001b[38;5;124moptions and columns on an \u001b[39m\u001b[38;5;124m\"\u001b[39m\n\u001b[0;32m    468\u001b[0m             \u001b[38;5;124m\"\u001b[39m\u001b[38;5;124mexisting Table object.\u001b[39m\u001b[38;5;124m\"\u001b[39m\n\u001b[0;32m    469\u001b[0m         )\n\u001b[0;32m    470\u001b[0m     table \u001b[38;5;241m=\u001b[39m metadata\u001b[38;5;241m.\u001b[39mtables[key]\n\u001b[0;32m    471\u001b[0m     \u001b[38;5;28;01mif\u001b[39;00m extend_existing:\n",
      "\u001b[1;31mInvalidRequestError\u001b[0m: Table 'hero' is already defined for this MetaData instance.  Specify 'extend_existing=True' to redefine options and columns on an existing Table object."
     ]
    }
   ],
   "source": [
    "from sqlmodel import Field, Session, SQLModel, create_engine\n",
    "\n",
    "\n",
    "class Hero(SQLModel, table=True):\n",
    "    id: int | None = Field(default=None, primary_key=True)\n",
    "    name: str\n",
    "    secret_name: str\n",
    "    age: int | None = None\n",
    "\n",
    "\n",
    "sqlite_file_name = \"database.db\"\n",
    "sqlite_url = f\"sqlite:///{sqlite_file_name}\"\n",
    "\n",
    "engine = create_engine(sqlite_url, echo=True)\n",
    "\n",
    "\n",
    "def create_db_and_tables():\n",
    "    SQLModel.metadata.create_all(engine)\n",
    "\n",
    "\n",
    "def create_heroes():  \n",
    "    hero_1 = Hero(name=\"Deadpond\", secret_name=\"Dive Wilson\")  \n",
    "    hero_2 = Hero(name=\"Spider-Boy\", secret_name=\"Pedro Parqueador\")\n",
    "    hero_3 = Hero(name=\"Rusty-Man\", secret_name=\"Tommy Sharp\", age=48)\n",
    "\n",
    "    with Session(engine) as session:  \n",
    "        session.add(hero_1)  \n",
    "        session.add(hero_2)\n",
    "        session.add(hero_3)\n",
    "\n",
    "        session.commit()  \n",
    "    \n",
    "\n",
    "\n",
    "def main():  \n",
    "    create_db_and_tables()  \n",
    "    create_heroes()  \n",
    "\n",
    "\n",
    "main()"
   ]
  }
 ],
 "metadata": {
  "kernelspec": {
   "display_name": "venv",
   "language": "python",
   "name": "python3"
  },
  "language_info": {
   "codemirror_mode": {
    "name": "ipython",
    "version": 3
   },
   "file_extension": ".py",
   "mimetype": "text/x-python",
   "name": "python",
   "nbconvert_exporter": "python",
   "pygments_lexer": "ipython3",
   "version": "3.12.3"
  }
 },
 "nbformat": 4,
 "nbformat_minor": 2
}
