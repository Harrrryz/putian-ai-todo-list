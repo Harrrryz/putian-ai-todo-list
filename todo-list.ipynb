{
 "cells": [
  {
   "cell_type": "code",
   "execution_count": 1,
   "metadata": {},
   "outputs": [
    {
     "data": {
      "text/plain": [
       "{1, 2}"
      ]
     },
     "execution_count": 1,
     "metadata": {},
     "output_type": "execute_result"
    }
   ],
   "source": [
    "# int a = 1;\n",
    "aa: int = 1\n",
    "# String b = \"a\";\n",
    "bb: str = \"a\"\n",
    "\n",
    "# ArrayList<String> l\n",
    "l: list[str] = []\n",
    "\n",
    "# ArrayList<ArrayList<String>> l2d\n",
    "l_2d: list[list[str]] = [[]]\n",
    "\n",
    "# void printList(List<String> l)\n",
    "def print_upper_list(l: list[str]) -> None:\n",
    "    for item in l:\n",
    "        print(item.upper())\n",
    "\n",
    "\n",
    "def get_combined_upper_list(l: list[str]) -> str:\n",
    "    return \"\".join([item.upper() for item in l])\n",
    "\n",
    "\n",
    "set([1,1,1,2])"
   ]
  },
  {
   "cell_type": "code",
   "execution_count": 10,
   "metadata": {},
   "outputs": [
    {
     "name": "stdout",
     "output_type": "stream",
     "text": [
      "key: a, value: 1\n",
      "key: b, value: 2\n"
     ]
    }
   ],
   "source": [
    "d: dict[str, int] = {'a': 1, 'b': 2}\n",
    "for key, value in d.items():\n",
    "    print(f'key: {key}, value: {value}')"
   ]
  },
  {
   "cell_type": "code",
   "execution_count": 8,
   "metadata": {},
   "outputs": [
    {
     "name": "stdout",
     "output_type": "stream",
     "text": [
      "1 2\n"
     ]
    }
   ],
   "source": [
    "l = [1, 2]\n",
    "a, b = (1, 2)\n",
    "print(a, b)"
   ]
  },
  {
   "cell_type": "code",
   "execution_count": null,
   "metadata": {},
   "outputs": [],
   "source": [
    "a, b = 1, 2\n",
    "a, b = b, a"
   ]
  },
  {
   "cell_type": "code",
   "execution_count": 2,
   "metadata": {},
   "outputs": [
    {
     "data": {
      "text/plain": [
       "datetime.datetime(2024, 5, 18, 11, 43, 59, 537510)"
      ]
     },
     "execution_count": 2,
     "metadata": {},
     "output_type": "execute_result"
    }
   ],
   "source": [
    "from datetime import datetime\n",
    "\n",
    "datetime.now()"
   ]
  },
  {
   "cell_type": "code",
   "execution_count": 3,
   "metadata": {},
   "outputs": [],
   "source": [
    "class TodoItem(object):\n",
    "\n",
    "    def __init__(self, item: str, plan_time: datetime) -> None:\n",
    "        self.item: str = item\n",
    "        self.created_at: datetime = datetime.now()\n",
    "        self.plan_time: datetime = plan_time\n",
    "\n",
    "\n",
    "    def __str__(self) -> str:\n",
    "        return f'Plan: {self.plan_time.strftime(\"%Y-%m-%d\")}, item: {self.item}'\n",
    "\n",
    "\n",
    "    def __repr__(self) -> str:\n",
    "        return self.__str__()\n",
    "\n",
    "item = TodoItem('Rap', datetime(year=2024, month=5, day=12))"
   ]
  },
  {
   "cell_type": "code",
   "execution_count": 4,
   "metadata": {},
   "outputs": [],
   "source": [
    "item = TodoItem('Rap', datetime(year=2024, month=5, day=12))\n"
   ]
  },
  {
   "cell_type": "code",
   "execution_count": 25,
   "metadata": {},
   "outputs": [
    {
     "name": "stdout",
     "output_type": "stream",
     "text": [
      "Name: Harry, age: 18, money: 12.21\n"
     ]
    }
   ],
   "source": [
    "print('Name: %s, age: %d, money: %.2f'%('Harry', 18, 12.213123123))"
   ]
  },
  {
   "cell_type": "code",
   "execution_count": 27,
   "metadata": {},
   "outputs": [
    {
     "name": "stdout",
     "output_type": "stream",
     "text": [
      "Money: 20.12\n"
     ]
    }
   ],
   "source": [
    "money: float = 20.123123\n",
    "print(f'Money: {money:.2f}')"
   ]
  },
  {
   "cell_type": "code",
   "execution_count": 22,
   "metadata": {},
   "outputs": [
    {
     "data": {
      "text/plain": [
       "Plan: 2024-05-12, item: Rap"
      ]
     },
     "execution_count": 22,
     "metadata": {},
     "output_type": "execute_result"
    }
   ],
   "source": [
    "item"
   ]
  },
  {
   "cell_type": "code",
   "execution_count": 28,
   "metadata": {},
   "outputs": [],
   "source": [
    "item: str = input(\"Please input item\")"
   ]
  },
  {
   "cell_type": "code",
   "execution_count": null,
   "metadata": {},
   "outputs": [],
   "source": [
    "class TodoItem(object):\n",
    "\n",
    "    def __init__(self, item: str, plan_time: datetime) -> None:\n",
    "        self.item: str = item\n",
    "        self.created_at: datetime = datetime.now()\n",
    "        self.plan_time: datetime = plan_time"
   ]
  },
  {
   "cell_type": "code",
   "execution_count": 20,
   "metadata": {},
   "outputs": [],
   "source": [
    "from pydantic import BaseModel, EmailStr\n",
    "\n",
    "class TodoItem(BaseModel):\n",
    "    item: str = 'Rap'\n",
    "    created_at: datetime = datetime.now()\n",
    "    plan_time: datetime\n",
    "\n",
    "item = TodoItem(item='Rap', plan_time=datetime(year=2024, month=5, day=12))"
   ]
  },
  {
   "cell_type": "code",
   "execution_count": 28,
   "metadata": {},
   "outputs": [],
   "source": [
    "class User(BaseModel):\n",
    "    username: str\n",
    "    age: int\n",
    "    email: EmailStr\n",
    "\n",
    "\n",
    "user = User(username='aa', age=12, email='asd@asd.com')"
   ]
  },
  {
   "cell_type": "code",
   "execution_count": null,
   "metadata": {},
   "outputs": [],
   "source": [
    "User"
   ]
  },
  {
   "cell_type": "code",
   "execution_count": 23,
   "metadata": {},
   "outputs": [
    {
     "data": {
      "text/plain": [
       "'{\"username\":\"aa\",\"age\":12,\"email\":\"asd@asd.com\"}'"
      ]
     },
     "execution_count": 23,
     "metadata": {},
     "output_type": "execute_result"
    }
   ],
   "source": [
    "user.model_dump_json()"
   ]
  },
  {
   "cell_type": "code",
   "execution_count": 27,
   "metadata": {},
   "outputs": [
    {
     "data": {
      "text/plain": [
       "User(username='aa', age=12, email='asd@asd.com')"
      ]
     },
     "execution_count": 27,
     "metadata": {},
     "output_type": "execute_result"
    }
   ],
   "source": [
    "json_str = '{\"username\":\"aa\",\"age\":12,\"email\":\"asd@asd.com\"}'\n",
    "import json\n",
    "json_dict = json.loads(json_str)\n",
    "\n",
    "User(**json_dict)"
   ]
  },
  {
   "cell_type": "code",
   "execution_count": null,
   "metadata": {},
   "outputs": [],
   "source": [
    "User(username=json_dict['username'], age=json_dict['age'], email=json_dict['email'])"
   ]
  },
  {
   "cell_type": "code",
   "execution_count": 30,
   "metadata": {},
   "outputs": [
    {
     "name": "stdout",
     "output_type": "stream",
     "text": [
      "1\n",
      "3\n",
      "5\n",
      "7\n",
      "9\n"
     ]
    }
   ],
   "source": [
    "i = 0\n",
    "while i < 10:\n",
    "    i += 1\n",
    "    if i % 2 == 0:\n",
    "        continue\n",
    "    print(i)"
   ]
  },
  {
   "cell_type": "code",
   "execution_count": 1,
   "metadata": {},
   "outputs": [
    {
     "data": {
      "text/plain": [
       "['chang', 'tiao']"
      ]
     },
     "execution_count": 1,
     "metadata": {},
     "output_type": "execute_result"
    },
    {
     "ename": "",
     "evalue": "",
     "output_type": "error",
     "traceback": [
      "\u001b[1;31mThe Kernel crashed while executing code in the current cell or a previous cell. \n",
      "\u001b[1;31mPlease review the code in the cell(s) to identify a possible cause of the failure. \n",
      "\u001b[1;31mClick <a href='https://aka.ms/vscodeJupyterKernelCrash'>here</a> for more info. \n",
      "\u001b[1;31mView Jupyter <a href='command:jupyter.viewOutput'>log</a> for further details."
     ]
    }
   ],
   "source": [
    "todos = ['chang', 'tiao', 'rap', 'lanqiu'] # ctrl + .\n",
    "todos[0:2] # [0, 2)"
   ]
  }
 ],
 "metadata": {
  "kernelspec": {
   "display_name": "Python 3",
   "language": "python",
   "name": "python3"
  },
  "language_info": {
   "codemirror_mode": {
    "name": "ipython",
    "version": 3
   },
   "file_extension": ".py",
   "mimetype": "text/x-python",
   "name": "python",
   "nbconvert_exporter": "python",
   "pygments_lexer": "ipython3",
   "version": "3.12.3"
  }
 },
 "nbformat": 4,
 "nbformat_minor": 2
}
